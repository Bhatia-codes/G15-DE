{
  "nbformat": 4,
  "nbformat_minor": 0,
  "metadata": {
    "colab": {
      "provenance": []
    },
    "kernelspec": {
      "name": "python3",
      "display_name": "Python 3"
    },
    "language_info": {
      "name": "python"
    }
  },
  "cells": [
    {
      "cell_type": "code",
      "execution_count": 1,
      "metadata": {
        "colab": {
          "base_uri": "https://localhost:8080/"
        },
        "id": "2NdK8xstcXRl",
        "outputId": "e5a5d9db-783c-4265-f689-e21bdfb71958"
      },
      "outputs": [
        {
          "output_type": "stream",
          "name": "stdout",
          "text": [
            "Collecting pyspark\n",
            "  Downloading pyspark-3.5.0.tar.gz (316.9 MB)\n",
            "\u001b[2K     \u001b[90m━━━━━━━━━━━━━━━━━━━━━━━━━━━━━━━━━━━━━━━━\u001b[0m \u001b[32m316.9/316.9 MB\u001b[0m \u001b[31m3.4 MB/s\u001b[0m eta \u001b[36m0:00:00\u001b[0m\n",
            "\u001b[?25h  Preparing metadata (setup.py) ... \u001b[?25l\u001b[?25hdone\n",
            "Requirement already satisfied: py4j==0.10.9.7 in /usr/local/lib/python3.10/dist-packages (from pyspark) (0.10.9.7)\n",
            "Building wheels for collected packages: pyspark\n",
            "  Building wheel for pyspark (setup.py) ... \u001b[?25l\u001b[?25hdone\n",
            "  Created wheel for pyspark: filename=pyspark-3.5.0-py2.py3-none-any.whl size=317425345 sha256=76643c2e5f8451d64b84396504cb9f8ff5eedd589b6d847104d6fd844f8cf84e\n",
            "  Stored in directory: /root/.cache/pip/wheels/41/4e/10/c2cf2467f71c678cfc8a6b9ac9241e5e44a01940da8fbb17fc\n",
            "Successfully built pyspark\n",
            "Installing collected packages: pyspark\n",
            "Successfully installed pyspark-3.5.0\n"
          ]
        }
      ],
      "source": [
        "!pip install pyspark"
      ]
    },
    {
      "cell_type": "code",
      "source": [
        "import pyspark"
      ],
      "metadata": {
        "id": "iXaWpC5FcfII"
      },
      "execution_count": 2,
      "outputs": []
    },
    {
      "cell_type": "code",
      "source": [
        "import psycopg2\n",
        "import pandas as pd\n",
        "from pyspark.sql import SparkSession"
      ],
      "metadata": {
        "id": "T5Z8VQIVcu_Q"
      },
      "execution_count": 3,
      "outputs": []
    },
    {
      "cell_type": "code",
      "source": [
        "conn= psycopg2.connect(\"dbname='mtamypvc' user='mtamypvc' host='rosie.db.elephantsql.com' password='A-3BMAj6OCp6QByyHRgo2UCqYhoXy-_d'\")"
      ],
      "metadata": {
        "id": "RB9MWRGcc2Lm"
      },
      "execution_count": 4,
      "outputs": []
    },
    {
      "cell_type": "code",
      "source": [
        "db_params={\n",
        "    \"dbname\":'mtamypvc',\n",
        "    \"user\":'mtamypvc' ,\n",
        "    \"host\":'rosie.db.elephantsql.com' ,\n",
        "    \"password\":'A-3BMAj6OCp6QByyHRgo2UCqYhoXy-_d',\n",
        "    \"port\":\"5432\"\n",
        "}"
      ],
      "metadata": {
        "id": "6U9T9psEdVwp"
      },
      "execution_count": 5,
      "outputs": []
    },
    {
      "cell_type": "code",
      "source": [
        "connection=psycopg2.connect(**db_params)"
      ],
      "metadata": {
        "id": "bNBa4Ewbdacl"
      },
      "execution_count": 6,
      "outputs": []
    },
    {
      "cell_type": "code",
      "source": [
        "cur=conn.cursor()"
      ],
      "metadata": {
        "id": "LtxRLbh0dd9b"
      },
      "execution_count": 7,
      "outputs": []
    },
    {
      "cell_type": "code",
      "source": [
        "spark=SparkSession.builder.appName(\"Data Lake\").getOrCreate()"
      ],
      "metadata": {
        "id": "oslssPjppNPW"
      },
      "execution_count": 8,
      "outputs": []
    },
    {
      "cell_type": "code",
      "source": [
        "from pyspark.sql.types import StructType,StringType,StructField\n",
        "\n",
        "def fetch_table_as_df(table_name):\n",
        "    cur.execute(f\"SELECT * FROM {table_name}\")\n",
        "    columns = [desc[0] for desc in cur.description]\n",
        "    # Define the schema explicitly\n",
        "    schema = StructType([\n",
        "        StructField(col_name, StringType(), nullable=True) for col_name in columns\n",
        "    ])\n",
        "\n",
        "    data = cur.fetchall()\n",
        "    return spark.createDataFrame(data, schema)"
      ],
      "metadata": {
        "id": "F0JRyaCGeGfp"
      },
      "execution_count": 9,
      "outputs": []
    },
    {
      "cell_type": "code",
      "source": [
        "def create_datalake(spark_df,table_name):\n",
        "  spark_df.write.parquet(f\"{table_name}.parquet\",mode=\"overwrite\")"
      ],
      "metadata": {
        "id": "sjQYMr7PedQW"
      },
      "execution_count": 10,
      "outputs": []
    },
    {
      "cell_type": "code",
      "source": [
        "table_names=[\n",
        "    'employees','orders','order_details','customers','territories'\n",
        "]"
      ],
      "metadata": {
        "id": "GPmAu8p9sq4x"
      },
      "execution_count": 11,
      "outputs": []
    },
    {
      "cell_type": "code",
      "source": [
        "for tab_name in table_names:\n",
        "  df=fetch_table_as_df(tab_name)\n",
        "  create_datalake(df,tab_name)\n"
      ],
      "metadata": {
        "id": "CCAWmugUuNO5"
      },
      "execution_count": 12,
      "outputs": []
    },
    {
      "cell_type": "code",
      "source": [
        "pwd"
      ],
      "metadata": {
        "colab": {
          "base_uri": "https://localhost:8080/",
          "height": 35
        },
        "id": "ZnkCd4ZMuuCI",
        "outputId": "f6bec022-de77-42a1-c12e-2fc5bc7487d5"
      },
      "execution_count": 13,
      "outputs": [
        {
          "output_type": "execute_result",
          "data": {
            "text/plain": [
              "'/content'"
            ],
            "application/vnd.google.colaboratory.intrinsic+json": {
              "type": "string"
            }
          },
          "metadata": {},
          "execution_count": 13
        }
      ]
    },
    {
      "cell_type": "code",
      "source": [
        "customers=spark.read.parquet('customers.parquet')"
      ],
      "metadata": {
        "id": "XXHPv9mavngp"
      },
      "execution_count": 14,
      "outputs": []
    },
    {
      "cell_type": "code",
      "source": [
        "customers.createOrReplaceTempView('customers_temp')"
      ],
      "metadata": {
        "id": "0SosJaA4vwjs"
      },
      "execution_count": 15,
      "outputs": []
    },
    {
      "cell_type": "code",
      "source": [
        "spark.sql('select * from customers_temp').show()"
      ],
      "metadata": {
        "colab": {
          "base_uri": "https://localhost:8080/"
        },
        "id": "qlOCb4Vqv4BT",
        "outputId": "e5c5e769-efd6-4e32-a502-67443e7ecf59"
      },
      "execution_count": 16,
      "outputs": [
        {
          "output_type": "stream",
          "name": "stdout",
          "text": [
            "+-----------+--------------------+-------------------+--------------------+--------------------+---------------+-------------+-----------+---------+---------------+---------------+\n",
            "|customer_id|        company_name|       contact_name|       contact_title|             address|           city|       region|postal_code|  country|          phone|            fax|\n",
            "+-----------+--------------------+-------------------+--------------------+--------------------+---------------+-------------+-----------+---------+---------------+---------------+\n",
            "|      LILAS|   LILA-Supermercado|    Carlos González|  Accounting Manager|Carrera 52 con Av...|   Barquisimeto|         Lara|       3508|Venezuela|   (9) 331-6954|   (9) 331-7256|\n",
            "|      LINOD|    LINO-Delicateses|   Felipe Izquierdo|               Owner|Ave. 5 de Mayo Po...|I. de Margarita|Nueva Esparta|       4980|Venezuela|   (8) 34-56-12|   (8) 34-93-93|\n",
            "|      LONEP|Lonesome Pine Res...|        Fran Wilson|       Sales Manager|  89 Chiaroscuro Rd.|       Portland|           OR|      97219|      USA| (503) 555-9573| (503) 555-9646|\n",
            "|      MAGAA|Magazzini Aliment...|   Giovanni Rovelli|   Marketing Manager|Via Ludovico il M...|        Bergamo|         NULL|      24100|    Italy|     035-640230|     035-640231|\n",
            "|      MAISD|        Maison Dewey|    Catherine Dewey|         Sales Agent| Rue Joseph-Bens 532|      Bruxelles|         NULL|     B-1180|  Belgium| (02) 201 24 67| (02) 201 24 68|\n",
            "|      MEREP|      Mère Paillarde|     Jean Fresnière| Marketing Assistant|  43 rue St. Laurent|       Montréal|       Québec|    H1J 1C3|   Canada| (514) 555-8054| (514) 555-8055|\n",
            "|      MORGK|Morgenstern Gesun...|    Alexander Feuer| Marketing Assistant|         Heerstr. 22|        Leipzig|         NULL|      04179|  Germany|    0342-023176|           NULL|\n",
            "|      NORTS|         North/South|     Simon Crowther|     Sales Associate|South House 300 Q...|         London|         NULL|    SW7 1RZ|       UK| (171) 555-7733| (171) 555-2530|\n",
            "|      OCEAN|Océano Atlántico ...|     Yvonne Moncada|         Sales Agent|Ing. Gustavo Monc...|   Buenos Aires|         NULL|       1010|Argentina|   (1) 135-5333|   (1) 135-5535|\n",
            "|      OLDWO|Old World Delicat...|      Rene Phillips|Sales Representative|     2743 Bering St.|      Anchorage|           AK|      99508|      USA| (907) 555-7584| (907) 555-2880|\n",
            "|      OTTIK|  Ottilies Käseladen|Henriette Pfalzheim|               Owner|  Mehrheimerstr. 369|           Köln|         NULL|      50739|  Germany|   0221-0644327|   0221-0765721|\n",
            "|      PARIS|   Paris spécialités|     Marie Bertrand|               Owner|265, boulevard Ch...|          Paris|         NULL|      75012|   France|(1) 42.34.22.66|(1) 42.34.22.77|\n",
            "|      PERIC|Pericles Comidas ...|Guillermo Fernández|Sales Representative|Calle Dr. Jorge C...|    México D.F.|         NULL|      05033|   Mexico|   (5) 552-3745|   (5) 545-3745|\n",
            "|      PICCO|    Piccolo und mehr|        Georg Pipps|       Sales Manager|         Geislweg 14|       Salzburg|         NULL|       5020|  Austria|      6562-9722|      6562-9723|\n",
            "|      PRINI|Princesa Isabel V...|   Isabel de Castro|Sales Representative|Estrada da saúde ...|         Lisboa|         NULL|       1756| Portugal|   (1) 356-5634|           NULL|\n",
            "|      QUEDE|         Que Delícia|   Bernardo Batista|  Accounting Manager|Rua da Panificado...| Rio de Janeiro|           RJ|  02389-673|   Brazil|  (21) 555-4252|  (21) 555-4545|\n",
            "|      QUEEN|       Queen Cozinha|     Lúcia Carvalho| Marketing Assistant|Alameda dos Canàr...|      Sao Paulo|           SP|  05487-020|   Brazil|  (11) 555-1189|           NULL|\n",
            "|      QUICK|          QUICK-Stop|        Horst Kloss|  Accounting Manager|    Taucherstraße 10|      Cunewalde|         NULL|      01307|  Germany|    0372-035188|           NULL|\n",
            "|      RANCH|       Rancho grande|   Sergio Gutiérrez|Sales Representative|Av. del Libertado...|   Buenos Aires|         NULL|       1010|Argentina|   (1) 123-5555|   (1) 123-5556|\n",
            "|      RATTC|Rattlesnake Canyo...|       Paula Wilson|Assistant Sales R...|     2817 Milton Dr.|    Albuquerque|           NM|      87110|      USA| (505) 555-5939| (505) 555-3620|\n",
            "+-----------+--------------------+-------------------+--------------------+--------------------+---------------+-------------+-----------+---------+---------------+---------------+\n",
            "only showing top 20 rows\n",
            "\n"
          ]
        }
      ]
    },
    {
      "cell_type": "code",
      "source": [
        ""
      ],
      "metadata": {
        "id": "EhCW4gAtv_kZ"
      },
      "execution_count": 16,
      "outputs": []
    }
  ]
}